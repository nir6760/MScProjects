{
  "nbformat": 4,
  "nbformat_minor": 0,
  "metadata": {
    "colab": {
      "provenance": [],
      "authorship_tag": "ABX9TyONzkqF5CDv9PoP1fdTyVHK",
      "include_colab_link": true
    },
    "kernelspec": {
      "name": "python3",
      "display_name": "Python 3"
    },
    "language_info": {
      "name": "python"
    }
  },
  "cells": [
    {
      "cell_type": "markdown",
      "metadata": {
        "id": "view-in-github",
        "colab_type": "text"
      },
      "source": [
        "<a href=\"https://colab.research.google.com/github/nir6760/MScProjects/blob/main/GMDL_hw1.ipynb\" target=\"_parent\"><img src=\"https://colab.research.google.com/assets/colab-badge.svg\" alt=\"Open In Colab\"/></a>"
      ]
    },
    {
      "cell_type": "markdown",
      "source": [
        "## GMDL , HW 1"
      ],
      "metadata": {
        "id": "9z46Ve6PeQC9"
      }
    },
    {
      "cell_type": "markdown",
      "source": [
        "**Nir Mualem 205467780**\n",
        "\n",
        "**Or Cohen Tsemach 207498395**"
      ],
      "metadata": {
        "id": "PV6VLQkCdbJh"
      }
    },
    {
      "cell_type": "code",
      "execution_count": null,
      "metadata": {
        "id": "dXY7QswKq2YH"
      },
      "outputs": [],
      "source": [
        "import numpy as np\n",
        "from matplotlib import pyplot as plt"
      ]
    },
    {
      "cell_type": "code",
      "source": [
        "#!pip install ipython-autotime"
      ],
      "metadata": {
        "id": "1_7lTcSHGnlq"
      },
      "execution_count": null,
      "outputs": []
    },
    {
      "cell_type": "markdown",
      "source": [
        "# Part 1"
      ],
      "metadata": {
        "id": "fWaB9Vb3e7jj"
      }
    },
    {
      "cell_type": "markdown",
      "source": [
        "## Computer Exercise 1"
      ],
      "metadata": {
        "id": "YBKTi7eGq_Sg"
      }
    },
    {
      "cell_type": "code",
      "source": [
        "def G(row_s, Temp):\n",
        "  '''\n",
        "  input:\n",
        "  param row_s: a 1D numpy array\n",
        "  param Temp: a scalar\n",
        "  output:\n",
        "  A scalar (see pdf for detailes)\n",
        "  '''\n",
        "  return np.exp((1/Temp) * np.sum(row_s[:-1] * row_s[1:]) )"
      ],
      "metadata": {
        "id": "k6sAEHZ4rGqU"
      },
      "execution_count": null,
      "outputs": []
    },
    {
      "cell_type": "markdown",
      "source": [
        "## Computer Exercise 2"
      ],
      "metadata": {
        "id": "0SnXigLQsIoO"
      }
    },
    {
      "cell_type": "code",
      "source": [
        "def F(row_s, row_t, Temp):\n",
        "  '''\n",
        "  input:\n",
        "  param row_s: a 1D numpy array\n",
        "  param row_t: a 1D numpy array\n",
        "  param Temp: a scalar\n",
        "  output:\n",
        "  A scalar (see pdf for detailes)\n",
        "  '''\n",
        "  return np.exp((1/Temp) * np.sum(row_s * row_t) )"
      ],
      "metadata": {
        "id": "meAkNuTlsKbq"
      },
      "execution_count": null,
      "outputs": []
    },
    {
      "cell_type": "markdown",
      "source": [
        "## Computer Exercise 3"
      ],
      "metadata": {
        "id": "hPv7qwGEz1--"
      }
    },
    {
      "cell_type": "code",
      "source": [
        "# Define the values for  Temp\n",
        "Temp_values = [1, 1.5, 2]\n",
        "def compute_and_output(ex_num, compute_func, round_num=4):\n",
        "  # Loop over the Temp values and compute ZTemp for each\n",
        "  print(f'Computer Exercise number {ex_num}:')\n",
        "  for Temp in Temp_values:\n",
        "      ZTemp = compute_func(Temp)\n",
        "      print(f'ZTemp for Temp={Temp}: {round(ZTemp,round_num)}')"
      ],
      "metadata": {
        "id": "2oOCereTnTtl"
      },
      "execution_count": null,
      "outputs": []
    },
    {
      "cell_type": "code",
      "source": [
        "# Define the values for xs\n",
        "xs_values = [-1, 1]\n",
        "\n",
        "\n",
        "# Function to compute ZTemp for a given Temp, 2*2 lattice (first method)\n",
        "def compute_ZTemp3(Temp):\n",
        "  '''\n",
        "  input:\n",
        "  Temp: a scalar\n",
        "  output:\n",
        "  A scalar (calculate ZTemp)\n",
        "  '''\n",
        "  ZTemp = 0\n",
        "  for x11 in xs_values:\n",
        "      for x12 in xs_values:\n",
        "          for x21 in xs_values:\n",
        "              for x22 in xs_values:\n",
        "                  ZTemp += np.exp((1/Temp)*(x11*x12+x11*x21+x12*x22+x21*x22))\n",
        "  return ZTemp\n",
        "\n",
        "compute_and_output(3, compute_ZTemp3)"
      ],
      "metadata": {
        "colab": {
          "base_uri": "https://localhost:8080/"
        },
        "id": "hSovi_P1yxR_",
        "outputId": "5e3cf60c-2043-46af-e202-9c58bdac6247"
      },
      "execution_count": null,
      "outputs": [
        {
          "output_type": "stream",
          "name": "stdout",
          "text": [
            "Computer Exercise number 3:\n",
            "ZTemp for Temp=1: 121.2329\n",
            "ZTemp for Temp=1.5: 40.9228\n",
            "ZTemp for Temp=2: 27.0488\n"
          ]
        }
      ]
    },
    {
      "cell_type": "markdown",
      "source": [
        "## Computer Exercise 4"
      ],
      "metadata": {
        "id": "EnWYhPKn0QXd"
      }
    },
    {
      "cell_type": "code",
      "source": [
        "# Function to compute ZTemp for a given Temp, 3*3 lattice (first method)\n",
        "def compute_ZTemp4(Temp):\n",
        "  '''\n",
        "  input:\n",
        "  Temp: a scalar\n",
        "  output:\n",
        "  A scalar (calculate ZTemp)\n",
        "  '''\n",
        "  ZTemp = 0\n",
        "  for x11 in xs_values:\n",
        "    for x12 in xs_values:\n",
        "      for x13 in xs_values:\n",
        "        for x21 in xs_values:\n",
        "          for x22 in xs_values:\n",
        "            for x23 in xs_values:\n",
        "              for x31 in xs_values:\n",
        "                for x32 in xs_values:\n",
        "                  for x33 in xs_values:\n",
        "                          ZTemp += np.exp((1/Temp)*(x11*x12 + x11*x21\n",
        "                                                  + x12*x13 + x12*x22\n",
        "                                                  + x13*x23\n",
        "                                                  + x21*x22 + x21*x31\n",
        "                                                  + x22*x23 + x22*x32\n",
        "                                                  + x23*x33\n",
        "                                                  + x31*x32\n",
        "                                                  + x32*x33))\n",
        "  return ZTemp\n",
        "\n",
        "compute_and_output(4, compute_ZTemp4)"
      ],
      "metadata": {
        "colab": {
          "base_uri": "https://localhost:8080/"
        },
        "id": "6RcFUyGL0OsT",
        "outputId": "15f8c426-8c99-4835-ff0f-9ede09e8df03"
      },
      "execution_count": null,
      "outputs": [
        {
          "output_type": "stream",
          "name": "stdout",
          "text": [
            "Computer Exercise number 4:\n",
            "ZTemp for Temp=1: 365645.7491\n",
            "ZTemp for Temp=1.5: 10565.422\n",
            "ZTemp for Temp=2: 2674.5181\n"
          ]
        }
      ]
    },
    {
      "cell_type": "markdown",
      "source": [
        "## Computer Exercise 5"
      ],
      "metadata": {
        "id": "yYduVa7zhaQD"
      }
    },
    {
      "cell_type": "code",
      "source": [
        "!python --version"
      ],
      "metadata": {
        "colab": {
          "base_uri": "https://localhost:8080/"
        },
        "id": "gSBx9PKxhsJH",
        "outputId": "626802e4-5149-44e8-e730-88d76a9166c2"
      },
      "execution_count": null,
      "outputs": [
        {
          "output_type": "stream",
          "name": "stdout",
          "text": [
            "Python 3.10.11\n"
          ]
        }
      ]
    },
    {
      "cell_type": "code",
      "source": [
        "def y2row(y,width=8):\n",
        "  '''\n",
        "  y: an integer in (0,...,(2**width)-1)\n",
        "  '''\n",
        "  if not 0<=y<=(2**width)-1:\n",
        "    raise ValueError(y)\n",
        "  my_str=np.binary_repr(y,width=width)\n",
        "  # my_list = map(int,my_str) # Python 2\n",
        "  my_list = list(map(int,my_str)) # Python 3\n",
        "  my_array = np.asarray(my_list)\n",
        "  my_array[my_array==0]=-1\n",
        "  row=my_array\n",
        "  return row\n"
      ],
      "metadata": {
        "id": "Ii_4gI6ifBj2"
      },
      "execution_count": null,
      "outputs": []
    },
    {
      "cell_type": "code",
      "source": [
        "# Function to compute ZTemp for a given Temp, 2*2 lattice (second method)\n",
        "def compute_ZTemp5(Temp):\n",
        "  '''\n",
        "  input:\n",
        "  Temp: a scalar\n",
        "  output:\n",
        "  A scalar (calculate ZTemp)\n",
        "  '''\n",
        "  # Define the values for ys\n",
        "  ys_values = range(np.power(2,2))\n",
        "  ZTemp=0\n",
        "  width=2\n",
        "  for y1_val in ys_values:\n",
        "      for y2_val in ys_values:\n",
        "          y1 = y2row(y1_val, width)\n",
        "          y2 = y2row(y2_val, width)\n",
        "          ZTemp+= G(y1, Temp) * G(y2, Temp) * F(y1, y2, Temp)\n",
        "  return ZTemp\n",
        "\n",
        "compute_and_output(5, compute_ZTemp5)\n"
      ],
      "metadata": {
        "colab": {
          "base_uri": "https://localhost:8080/"
        },
        "id": "jAxs_E33kNsp",
        "outputId": "76360fc0-fb30-40ca-cbb3-c8a603c9ad63"
      },
      "execution_count": null,
      "outputs": [
        {
          "output_type": "stream",
          "name": "stdout",
          "text": [
            "Computer Exercise number 5:\n",
            "ZTemp for Temp=1: 121.2329\n",
            "ZTemp for Temp=1.5: 40.9228\n",
            "ZTemp for Temp=2: 27.0488\n"
          ]
        }
      ]
    },
    {
      "cell_type": "markdown",
      "source": [
        "## Computer Exercise 6"
      ],
      "metadata": {
        "id": "VYQVXugXo3OI"
      }
    },
    {
      "cell_type": "code",
      "source": [
        "# Function to compute ZTemp for a given Temp, 3*3 lattice (second method)\n",
        "def compute_ZTemp6(Temp):\n",
        "  '''\n",
        "  input:\n",
        "  Temp: a scalar\n",
        "  output:\n",
        "  A scalar (calculate ZTemp)\n",
        "  '''\n",
        "  # Define the values for ys\n",
        "  ys_values = range(np.power(2,3))\n",
        "  ZTemp=0\n",
        "  width=3\n",
        "  for y1_val in ys_values:\n",
        "      for y2_val in ys_values:\n",
        "          for y3_val in ys_values:\n",
        "              y1 = y2row(y1_val, width)\n",
        "              y2 = y2row(y2_val, width)\n",
        "              y3 = y2row(y3_val, width)\n",
        "              ZTemp+= G(y1, Temp) * G(y2, Temp) * G(y3, Temp) \\\n",
        "              * F(y1, y2, Temp) * F(y2, y3, Temp)\n",
        "  return ZTemp\n",
        "\n",
        "compute_and_output(6, compute_ZTemp6)"
      ],
      "metadata": {
        "colab": {
          "base_uri": "https://localhost:8080/"
        },
        "id": "_MYngpOvo1Mr",
        "outputId": "57dbfbfe-c7d8-422e-b296-10919f82117c"
      },
      "execution_count": null,
      "outputs": [
        {
          "output_type": "stream",
          "name": "stdout",
          "text": [
            "Computer Exercise number 6:\n",
            "ZTemp for Temp=1: 365645.7491\n",
            "ZTemp for Temp=1.5: 10565.422\n",
            "ZTemp for Temp=2: 2674.5181\n"
          ]
        }
      ]
    },
    {
      "cell_type": "markdown",
      "source": [
        "## Computer Exercise 7 implementation"
      ],
      "metadata": {
        "id": "qqQR5cNSCcl_"
      }
    },
    {
      "cell_type": "code",
      "source": [
        "# forward\n",
        "\n",
        "def calcGsArr(width, Temp, y_max_val):\n",
        "  # G[0], G[1], ..., G[255]\n",
        "    Gs_arr=np.zeros(y_max_val)\n",
        "    for y_val in range(y_max_val):\n",
        "        y = y2row(y_val,width)\n",
        "        Gs_arr[y_val]=G(y, Temp)\n",
        "    return Gs_arr\n",
        "\n",
        "def calcFsArr(width, Temp, y_max_val):\n",
        "  # rows are y_k vals\n",
        "  # columns are y_(k+1) vals\n",
        "    Fs_arr = np.zeros((y_max_val, y_max_val))\n",
        "    for y_curr_val in range(y_max_val):\n",
        "      for y_next_val in range(y_max_val):\n",
        "        Fs_arr[y_curr_val, y_next_val] = \\\n",
        "        F(y2row(y_curr_val,width),y2row(y_next_val,width),Temp)\n",
        "    return Fs_arr\n",
        "\n",
        "def calcTk(k_minus_one, y_max_val, Ts_arr, Gs_arr, Fs_arr):\n",
        "    Tk_arr = np.zeros(y_max_val)\n",
        "    for y_val in range(y_max_val):\n",
        "        Tk_arr[y_val] = np.sum(Ts_arr[k_minus_one] * Gs_arr * Fs_arr[:,y_val])\n",
        "    return Tk_arr\n",
        "\n",
        "def calcLast(k_minus_one, Ts_arr, Gs_arr):\n",
        "    ZTemp = 0\n",
        "    ZTemp = np.sum(Ts_arr[k_minus_one] * Gs_arr)\n",
        "    return ZTemp\n",
        "\n",
        "def calcTs(width, Gs_arr, Fs_arr, y_max_val):\n",
        "    Ts_arr = np.zeros((width, y_max_val))\n",
        "    ZTemp = 0 # last T : T_width\n",
        "    Ts_arr[0] = np.ones(y_max_val)\n",
        "    for t_ind in range(1, width):\n",
        "      Ts_arr[t_ind] = calcTk(t_ind-1 ,y_max_val, Ts_arr, Gs_arr, Fs_arr)\n",
        "    ZTemp = calcLast(width-1, Ts_arr, Gs_arr)\n",
        "    return Ts_arr, ZTemp\n",
        "\n",
        "def forward(width, Temp,  Gs_arr, Fs_arr, y_max_val):\n",
        "    Ts_arr, ZTemp = calcTs(width, Gs_arr, Fs_arr, y_max_val)\n",
        "    return Ts_arr, ZTemp"
      ],
      "metadata": {
        "id": "Exd4_rEuCdE-"
      },
      "execution_count": null,
      "outputs": []
    },
    {
      "cell_type": "code",
      "source": [
        "# backward\n",
        "\n",
        "def calcPLastArr(k, Ts_arr, Gs_arr, Fs_arr, ZTemp, y_max_val):\n",
        "    p_last = Ts_arr[k-1] * Gs_arr\n",
        "    p_last = p_last / ZTemp\n",
        "    return p_last\n",
        "\n",
        "def calcCondPArr(k, Ts_arr, Gs_arr, Fs_arr, y_max_val):\n",
        "    cond_p = np.zeros((y_max_val, y_max_val))\n",
        "    # iterate over y_(k+1)\n",
        "    for y_val in range(y_max_val):\n",
        "        cond_p[y_val] = Ts_arr[k-1] * Gs_arr * Fs_arr[:,y_val]\n",
        "        cond_p[y_val] = cond_p[y_val] / Ts_arr[k,y_val]\n",
        "    return cond_p\n",
        "\n",
        "def backward(width , Ts_arr, Gs_arr, Fs_arr, ZTemp, y_max_val):\n",
        "    lastP = calcPLastArr(width, Ts_arr, Gs_arr, Fs_arr, ZTemp, y_max_val) # p_width\n",
        "    condP_arr = np.zeros((width, y_max_val, y_max_val))\n",
        "    for cond_p_ind in range(1, width):\n",
        "        condP_arr[cond_p_ind] = calcCondPArr(cond_p_ind, Ts_arr, Gs_arr, Fs_arr, y_max_val)\n",
        "    return condP_arr, lastP"
      ],
      "metadata": {
        "id": "lGLw-I4GaX-d"
      },
      "execution_count": null,
      "outputs": []
    },
    {
      "cell_type": "code",
      "source": [
        "# full algorithm\n",
        "# Function to calculate conditional all requested probabilisites for sampling\n",
        "def fullCalculation(width, Temp):\n",
        "    y_max_val = np.power(2,width)\n",
        "    Gs_arr = calcGsArr(width, Temp, y_max_val)\n",
        "    Fs_arr = calcFsArr(width, Temp, y_max_val)\n",
        "    Ts_arr, ZTemp = forward(width, Temp,  Gs_arr, Fs_arr, y_max_val)\n",
        "    condP_arr, lastP = backward(width , Ts_arr, Gs_arr, Fs_arr, ZTemp, y_max_val)\n",
        "    return condP_arr, lastP"
      ],
      "metadata": {
        "id": "pX0RKmkdkKcw"
      },
      "execution_count": null,
      "outputs": []
    },
    {
      "cell_type": "code",
      "source": [
        "# Function to calculate to sample image sized width*width\n",
        "def sampleLattice(width, condP_arr, lastP):\n",
        "  y_arr = np.zeros(width+1, dtype=int)\n",
        "  y_max_val = np.power(2,width)\n",
        "  range_y_max_val = range(y_max_val)\n",
        "  y_arr[width] = np.random.choice(range_y_max_val,p=lastP)\n",
        "  for i in range(width-1, 0, -1):\n",
        "    y_arr[i] = np.random.choice(range_y_max_val,p=condP_arr[i,y_arr[i+1]])\n",
        "  return y_arr\n",
        "\n",
        "# Function to calculate to sample num_images of images sized width*width\n",
        "def sampleImages(num_images, width, condP_arr, lastP):\n",
        "  images_lst = []\n",
        "  for i in range(num_images):\n",
        "    images_lst.append(sampleLattice(width, condP_arr, lastP))\n",
        "  return images_lst\n",
        "\n",
        "# Function to convert the sampled image of 8 entries (8uint representation) to width*width representation\n",
        "def imageY2Row(image):\n",
        "  width = image.shape[0]\n",
        "  view_image = np.zeros((width, width), dtype=int)\n",
        "  for i in range(width):\n",
        "    view_image[i] =  y2row(image[i], width)\n",
        "  return view_image\n",
        "\n",
        "# Function to plot the images for computer exercise 7\n",
        "def plot_images(dict_images, TempLst, figsize=(20,15)):\n",
        "  num_of_images_per_row = len(dict_images[TempLst[0]])\n",
        "  num_of_images_per_col = len(TempLst)\n",
        "  fig,axs=plt.subplots(num_of_images_per_col,num_of_images_per_row, figsize=figsize)\n",
        "  fig.suptitle(\"Computer Exercise 7:\\nSampled lattices based on $T\\in\\{1, 1.5 , 2\\}$\")\n",
        "  plt.figure(dpi=80)\n",
        "  iter = 0\n",
        "  for key, value in dict_images.items():\n",
        "    for i,img in enumerate(value):\n",
        "      view_image = imageY2Row(img)\n",
        "      axs[iter,i].imshow(view_image[1:,1:],vmax=1,vmin=-1,interpolation=\"None\", cmap='gray')\n",
        "    axs[iter, 0].set_title(f'Temperature {key}:')\n",
        "    iter= iter + 1\n",
        "  fig.tight_layout()\n",
        "  plt.subplots_adjust(wspace=1.1, hspace=1.1)\n",
        "  plt.show()"
      ],
      "metadata": {
        "id": "vhxs-mEksD7V"
      },
      "execution_count": null,
      "outputs": []
    },
    {
      "cell_type": "markdown",
      "source": [
        "### **Problem 1**"
      ],
      "metadata": {
        "id": "Q8_CyCYTJuww"
      }
    },
    {
      "cell_type": "markdown",
      "source": [
        "\n",
        "The student likely encountered a programming bug related to integer division in Python 2. In Python 2, dividing integers results in an integer, truncating the fractional part. This is different from Python 3, where dividing integers results in a float. <br>\n",
        "The command 'python2 -c \"print [1/Temp for Temp in [1,1.5,2]]\"' would output [1, 0.66..., 0], indicating that F and G outputs for Temp = 2 were 1. This creates a uniform probability distribution, resulting in a random-looking distribution for Temp = 2. Therefore, the student was likely not sampling from the Ising model, but from a uniform distribution with no observable patterns."
      ],
      "metadata": {
        "id": "KkxfMqzvJWQG"
      }
    },
    {
      "cell_type": "markdown",
      "source": [
        "## Computer Exercise 8 implementation"
      ],
      "metadata": {
        "id": "C4NNuvl9DkCP"
      }
    },
    {
      "cell_type": "code",
      "source": [
        "# Function to calculate empirical mean for computer exercise 8\n",
        "def sampleMeans(num_samples, width, condP_arr, lastP,\n",
        "                pose1, pose2, pose3):\n",
        "    #specific_x_values = np.zeros((3,num_samples), dtype=int)\n",
        "    e1 = 0\n",
        "    e2 = 0\n",
        "    for i in range(num_samples):\n",
        "        y_arr = sampleLattice(width, condP_arr, lastP)\n",
        "        # specific_x_values[0, i] = y2row(y_arr[pose1[0]], width)[pose1[1]-1] # x11\n",
        "        # specific_x_values[1, i] = y2row(y_arr[pose2[0]], width)[pose2[1]-1] # x22\n",
        "        # specific_x_values[2, i] = y2row(y_arr[pose3[0]], width)[pose3[1]-1]# x88\n",
        "        x11 = y2row(y_arr[pose1[0]], width)[pose1[1]-1] # x11\n",
        "        x22 = y2row(y_arr[pose2[0]], width)[pose2[1]-1] # x22\n",
        "        x88 = y2row(y_arr[pose3[0]], width)[pose3[1]-1] # x88\n",
        "        e1 = ((i) * e1 + x11*x22)/(i+1)\n",
        "        e2 = ((i) * e2 + x11*x88)/(i+1)\n",
        "    # x11 * x22\n",
        "    #e1 = np.sum(specific_x_values[0, :] * specific_x_values[1, :]) / num_samples\n",
        "    # x11 * x88\n",
        "    #e2 = np.sum(specific_x_values[0, :] * specific_x_values[2, :]) / num_samples\n",
        "    return e1, e2"
      ],
      "metadata": {
        "id": "SDfFFZefAK0u"
      },
      "execution_count": null,
      "outputs": []
    },
    {
      "cell_type": "code",
      "source": [
        "# Functions to get the outputs of computer exercised 7 and 8\n",
        "def sampleImagesAndEmpricalMean(num_images, num_samples_for_mean,\n",
        "                                width, TempLst,pose1, pose2, pose3):\n",
        "  means_dict ={}\n",
        "  images_per_temp_dict = {}\n",
        "  for temp in TempLst:\n",
        "        condP_arr, lastP = fullCalculation(width, temp)\n",
        "        images_per_temp_dict[temp] = \\\n",
        "        sampleImages(num_images, width, condP_arr, lastP)\n",
        "        images_lst = sampleImages(num_images, width, condP_arr, lastP)\n",
        "        e1, e2 = sampleMeans(num_samples_for_mean, width, condP_arr, lastP,\n",
        "                      pose1, pose2, pose3)\n",
        "        means_dict[temp] = (e1, e2)\n",
        "\n",
        "  return means_dict, images_per_temp_dict\n",
        "\n",
        "pose1 = (1,1)\n",
        "pose2 = (2,2)\n",
        "pose3 = (8,8)\n",
        "%time means_dict, images_per_temp_dict = sampleImagesAndEmpricalMean(10, 10000, 8,Temp_values,pose1, pose2, pose3)\n",
        "\n"
      ],
      "metadata": {
        "colab": {
          "base_uri": "https://localhost:8080/"
        },
        "id": "dSLK9bwl5IzN",
        "outputId": "b34ebe8a-0397-4bd4-d837-5adf4053a340"
      },
      "execution_count": null,
      "outputs": [
        {
          "output_type": "stream",
          "name": "stdout",
          "text": [
            "CPU times: user 19.7 s, sys: 572 ms, total: 20.3 s\n",
            "Wall time: 22.6 s\n"
          ]
        }
      ]
    },
    {
      "cell_type": "code",
      "source": [
        "plot_images(images_per_temp_dict, Temp_values) # attached to the report"
      ],
      "metadata": {
        "colab": {
          "base_uri": "https://localhost:8080/",
          "height": 1000
        },
        "id": "e3fgKjmuqAIg",
        "outputId": "4367701f-379b-4162-af50-09bc18136593"
      },
      "execution_count": null,
      "outputs": [
        {
          "output_type": "display_data",
          "data": {
            "text/plain": [
              "<Figure size 2000x1500 with 30 Axes>"
            ],
            "image/png": "[encoded data removed]"
          },
          "metadata": {}
        },
        {
          "output_type": "display_data",
          "data": {
            "text/plain": [
              "<Figure size 512x384 with 0 Axes>"
            ]
          },
          "metadata": {}
        }
      ]
    },
    {
      "cell_type": "code",
      "source": [
        "def print_empirical_means(means_dict, round_num=4):\n",
        "  print(\"Computer Exercise 8:\\n\")\n",
        "  for key, value in means_dict.items():\n",
        "    print(f'Temperature {key}:')\n",
        "    print(f\"emprical_mean(X({pose1[0]},{pose1[1]})X({pose2[0]},{pose2[0]})) = \", round(value[0], round_num))\n",
        "    print(f\"emprical_mean(X({pose1[0]},{pose1[1]})X({pose3[0]},{pose3[1]})) = \", round(value[1], round_num))\n",
        "    print()\n",
        "print_empirical_means(means_dict)"
      ],
      "metadata": {
        "colab": {
          "base_uri": "https://localhost:8080/"
        },
        "id": "4Asm_x4J6AtP",
        "outputId": "624d2909-f569-4dae-fda7-6a4b51e18f70"
      },
      "execution_count": null,
      "outputs": [
        {
          "output_type": "stream",
          "name": "stdout",
          "text": [
            "Computer Exercise 8:\n",
            "\n",
            "Temperature 1:\n",
            "emprical_mean(X(1,1)X(2,2)) =  0.9566\n",
            "emprical_mean(X(1,1)X(8,8)) =  0.914\n",
            "\n",
            "Temperature 1.5:\n",
            "emprical_mean(X(1,1)X(2,2)) =  0.7612\n",
            "emprical_mean(X(1,1)X(8,8)) =  0.5542\n",
            "\n",
            "Temperature 2:\n",
            "emprical_mean(X(1,1)X(2,2)) =  0.509\n",
            "emprical_mean(X(1,1)X(8,8)) =  0.1172\n",
            "\n"
          ]
        }
      ]
    },
    {
      "cell_type": "markdown",
      "source": [
        "### **Problem 2**"
      ],
      "metadata": {
        "id": "-fMtmIkrQLDM"
      }
    },
    {
      "cell_type": "markdown",
      "source": [
        "At Temp=1:<br>\n",
        "* $\\hat{E}_{\\text{Temp}}[x_{(1,1)}x_{(2,2)}]\\approx0.95$ , $ \\hat{E}_{\\text{Temp}}[x_{(1,1)}x_{(8,8)}]\\approx0.9$ <br>\n",
        "* The difference in the emprical means is due to the spatial distance between the two vertices in eac emprical mean. Since the temperature remains constant, when they are farther apart from each other, the probability of both of them to agree decreases. However, because the temperature is low, the difference here is negligible.<br>\n",
        "\n",
        "At Temp=1.5:<br>\n",
        "* $\\hat{E}_{\\text{Temp}}[x_{(1,1)}x_{(2,2)}]\\approx0.76$ , $\\hat{E}_{\\text{Temp}}[x_{(1,1)}x_{(8,8)}]\\approx0.54$<br>\n",
        "* The probabilities have decreased compared to the previous temperature. As the temperature rose, more non-uniform lattices emerged. As their distance increases, their probability of agreement between them decreases. Therefore, we can see that the random variables with high spatial distance $x_{(1,1)}x_{(8,8)}$ agree far less than those with low spatial distance $x_{(1,1)}x_{(2,2)}$.<br>\n",
        "\n",
        "At Temp=2:<br>\n",
        "* $\\hat{E}_{\\text{Temp}}[x_{(1,1)}x_{(2,2)}]\\approx0.5$ , $\\hat{E}_{\\text{Temp}}[x_{(1,1)}x_{(8,8)}]\\approx0.12$\n",
        "* Similar as before, with a temperature of 2, the probability of chaotic structures emerging increases further. As a result, as the spatial distance between the vertices increases, the probability of $x_{(1,1)}x_{(8,8)}$ agreeing decreases even more. We can also observe that the estimated mean for $x_{(1,1)}x_{(8,8)}$ is close to zero, which means that because they are so far apart and the temperature is so high, they have almost no dependence on each other.\n",
        "\n",
        "|  Temperature              | $\\hat{E}_{\\text{Temp}}[x_{(1,1)}x_{(2,2)}]$ | $ \\hat{E}_{\\text{Temp}}[x_{(1,1)}x_{(8,8)}]$ |\n",
        "| :---------------- | :------: | ----: |\n",
        "| $1$        |   $\\approx0.95$   | $\\approx0.9$ |\n",
        "| $1.5$           |   $\\approx0.76$   | $\\approx0.54$ |\n",
        "| $2$    |  $\\approx0.5$  | $\\approx0.12$ |"
      ],
      "metadata": {
        "id": "rXY9O-0rQL5-"
      }
    },
    {
      "cell_type": "markdown",
      "source": [
        "# Part 2 MCMC\n"
      ],
      "metadata": {
        "id": "56cy8doXWuEt"
      }
    },
    {
      "cell_type": "markdown",
      "source": [
        "## Computer Exercise 9"
      ],
      "metadata": {
        "id": "8372IZk6s3pG"
      }
    },
    {
      "cell_type": "code",
      "source": [
        "def gibbsSweep(last_l,Temp,n, choices):\n",
        "    last_round_l = last_l\n",
        "    for i in  range(1,n+1):# raster-scan\n",
        "        for j in range(1,n+1):\n",
        "          # summing all the neighbors, Bernoulli probability for x_s=1, N, S, E, W\n",
        "            neighbors = last_round_l[i+1,j]+last_round_l[i-1,j]+last_round_l[i,j+1]+last_round_l[i,j-1]\n",
        "            exp = np.exp((1/Temp) * neighbors)\n",
        "            z = np.exp((1/Temp) * neighbors) + np.exp((-1/Temp)*neighbors)\n",
        "            # p(X_s=1)\n",
        "            bernoulli_param = (1/z) * exp\n",
        "            # 1, -1\n",
        "            #last_round_l[i,j] = np.random.binomial(1,bernoulli_param)*2-1\n",
        "            last_round_l[i,j] = np.random.choice(choices, 1, p=[1-bernoulli_param, bernoulli_param])\n",
        "    return last_round_l"
      ],
      "metadata": {
        "id": "KN2wYODd3WKf"
      },
      "execution_count": null,
      "outputs": []
    },
    {
      "cell_type": "markdown",
      "source": [
        "### Method 1"
      ],
      "metadata": {
        "id": "xYTM_Hfus5l0"
      }
    },
    {
      "cell_type": "code",
      "source": [
        "# Creates lattice by method 1\n",
        "def generateLatticeGibbs(Temp,n,sweeps_num):\n",
        "    choices = np.array([-1,1])\n",
        "    curr_l = np.zeros((n+2,n+2))\n",
        "    curr_l[1:-1,1:-1] = np.random.randint(low=0,high=2,size=(n,n))*2-1\n",
        "    for i in range(sweeps_num):\n",
        "        curr_l = gibbsSweep(curr_l, Temp, n, choices)\n",
        "    return curr_l\n",
        "\n",
        "# Gets samples after using method 1\n",
        "def getMeansMethod1(sweeps_num ,num_samples, Temp,\n",
        "                pose1, pose2, pose3, n):\n",
        "    e1 = 0\n",
        "    e2 = 0\n",
        "    for i in range(num_samples):\n",
        "        lattice_m1 = generateLatticeGibbs(Temp,n, sweeps_num)\n",
        "        x11 = lattice_m1[pose1[0],pose1[0]] # x11\n",
        "        x22 = lattice_m1[pose2[0],pose2[1]] # x22\n",
        "        x88 = lattice_m1[pose3[0],pose3[0]] # x88\n",
        "        e1 = ((i) * e1 + x11*x22)/(i+1)\n",
        "        e2 = ((i) * e2 + x11*x88)/(i+1)\n",
        "    return e1, e2"
      ],
      "metadata": {
        "id": "tikLceYFs9gf"
      },
      "execution_count": null,
      "outputs": []
    },
    {
      "cell_type": "markdown",
      "source": [
        "### Method 2"
      ],
      "metadata": {
        "id": "McinUd2Y1bE3"
      }
    },
    {
      "cell_type": "code",
      "source": [
        "# Gets samples after using method 2\n",
        "def getMeansMethod2(sweeps_num , burn_out, Temp,\n",
        "                      pose1, pose2, pose3, n):\n",
        "    choices = np.array([-1,1])\n",
        "    using_samples_num = sweeps_num-burn_out\n",
        "    lattice_m2 = np.zeros((n+2,n+2))\n",
        "    # 1, -1\n",
        "    lattice_m2[1:-1,1:-1] = np.random.randint(low=0,high=2,size=(n,n))*2-1\n",
        "    e1 = 0\n",
        "    e2 = 0\n",
        "    for i in range(sweeps_num):\n",
        "        lattice_m2 = gibbsSweep(lattice_m2,Temp,n, choices)\n",
        "        if i >= burn_out:\n",
        "          ind = i - burn_out\n",
        "          x11 = lattice_m2[pose1[0],pose1[0]] # x11\n",
        "          x22 = lattice_m2[pose2[0],pose2[1]] # x22\n",
        "          x88 = lattice_m2[pose3[0],pose3[0]] # x88\n",
        "          e1 = ((ind) * e1 + x11*x22)/(ind+1)\n",
        "          e2 = ((ind) * e2 + x11*x88)/(ind+1)\n",
        "    return e1, e2"
      ],
      "metadata": {
        "id": "caXyBjnQ1eVz"
      },
      "execution_count": null,
      "outputs": []
    },
    {
      "cell_type": "markdown",
      "source": [
        "## Computer Exercise 9 outputs"
      ],
      "metadata": {
        "id": "5ZxdMRYxOH0-"
      }
    },
    {
      "cell_type": "code",
      "source": [
        "def print_empirical_means_part2(TempLst, method1_flag, round_num=4):\n",
        "  pose1 = (1,1)\n",
        "  pose2 = (2,2)\n",
        "  pose3 = (8,8)\n",
        "  n = 8\n",
        "  if method1_flag:\n",
        "    sweeps_num = 25\n",
        "    param2 = 10000 # num of samples\n",
        "    num_samples = param2\n",
        "    method_func = getMeansMethod1\n",
        "    title_str = 'Method 1 (Independent Samples)'\n",
        "  else:\n",
        "    sweeps_num = 25000\n",
        "    param2 = 100 # burn out\n",
        "    num_samples = sweeps_num - param2\n",
        "    method_func = getMeansMethod2\n",
        "    title_str = 'Method 2 (Ergodicity)'\n",
        "  print(f'{title_str}:')\n",
        "  print()\n",
        "  for temp in TempLst:\n",
        "    e1, e2 = method_func(sweeps_num ,param2, temp,\n",
        "                pose1, pose2, pose3, n)\n",
        "    print(f'Temperature {temp}:')\n",
        "    print(f\"emprical_mean(X({pose1[0]},{pose1[1]})X({pose2[0]},{pose2[0]})) = \", round(e1, round_num))\n",
        "    print(f\"emprical_mean(X({pose1[0]},{pose1[1]})X({pose3[0]},{pose3[0]})) = \", round(e2, round_num))\n",
        "    print()\n",
        "\n"
      ],
      "metadata": {
        "id": "DZ8aNKKDOHKx"
      },
      "execution_count": null,
      "outputs": []
    },
    {
      "cell_type": "code",
      "source": [
        "print_empirical_means_part2(Temp_values, True)"
      ],
      "metadata": {
        "colab": {
          "base_uri": "https://localhost:8080/",
          "height": 307
        },
        "id": "VoHpH5CRcRXi",
        "outputId": "7176bffe-7cdc-4470-df3e-1bc75ce16fa2"
      },
      "execution_count": null,
      "outputs": [
        {
          "output_type": "stream",
          "name": "stdout",
          "text": [
            "Method 1 (Independent Samples):\n",
            "\n"
          ]
        },
        {
          "output_type": "error",
          "ename": "KeyboardInterrupt",
          "evalue": "ignored",
          "traceback": [
            "\u001b[0;31m---------------------------------------------------------------------------\u001b[0m",
            "\u001b[0;31mKeyboardInterrupt\u001b[0m                         Traceback (most recent call last)",
            "\u001b[0;32m<ipython-input-25-75c485da81c1>\u001b[0m in \u001b[0;36m<cell line: 1>\u001b[0;34m()\u001b[0m\n\u001b[0;32m----> 1\u001b[0;31m \u001b[0mprint_empirical_means_part2\u001b[0m\u001b[0;34m(\u001b[0m\u001b[0mTemp_values\u001b[0m\u001b[0;34m,\u001b[0m \u001b[0;32mTrue\u001b[0m\u001b[0;34m)\u001b[0m\u001b[0;34m\u001b[0m\u001b[0;34m\u001b[0m\u001b[0m\n\u001b[0m",
            "\u001b[0;32m<ipython-input-23-1f98eef0ae85>\u001b[0m in \u001b[0;36mprint_empirical_means_part2\u001b[0;34m(TempLst, method1_flag, round_num)\u001b[0m\n\u001b[1;32m     19\u001b[0m   \u001b[0mprint\u001b[0m\u001b[0;34m(\u001b[0m\u001b[0;34m)\u001b[0m\u001b[0;34m\u001b[0m\u001b[0;34m\u001b[0m\u001b[0m\n\u001b[1;32m     20\u001b[0m   \u001b[0;32mfor\u001b[0m \u001b[0mtemp\u001b[0m \u001b[0;32min\u001b[0m \u001b[0mTempLst\u001b[0m\u001b[0;34m:\u001b[0m\u001b[0;34m\u001b[0m\u001b[0;34m\u001b[0m\u001b[0m\n\u001b[0;32m---> 21\u001b[0;31m     e1, e2 = method_func(sweeps_num ,param2, temp,\n\u001b[0m\u001b[1;32m     22\u001b[0m                 pose1, pose2, pose3, n)\n\u001b[1;32m     23\u001b[0m     \u001b[0mprint\u001b[0m\u001b[0;34m(\u001b[0m\u001b[0;34mf'Temperature {temp}:'\u001b[0m\u001b[0;34m)\u001b[0m\u001b[0;34m\u001b[0m\u001b[0;34m\u001b[0m\u001b[0m\n",
            "\u001b[0;32m<ipython-input-21-7208f645297d>\u001b[0m in \u001b[0;36mgetMeansMethod1\u001b[0;34m(sweeps_num, num_samples, Temp, pose1, pose2, pose3, n)\u001b[0m\n\u001b[1;32m     14\u001b[0m     \u001b[0me2\u001b[0m \u001b[0;34m=\u001b[0m \u001b[0;36m0\u001b[0m\u001b[0;34m\u001b[0m\u001b[0;34m\u001b[0m\u001b[0m\n\u001b[1;32m     15\u001b[0m     \u001b[0;32mfor\u001b[0m \u001b[0mi\u001b[0m \u001b[0;32min\u001b[0m \u001b[0mrange\u001b[0m\u001b[0;34m(\u001b[0m\u001b[0mnum_samples\u001b[0m\u001b[0;34m)\u001b[0m\u001b[0;34m:\u001b[0m\u001b[0;34m\u001b[0m\u001b[0;34m\u001b[0m\u001b[0m\n\u001b[0;32m---> 16\u001b[0;31m         \u001b[0mlattice_m1\u001b[0m \u001b[0;34m=\u001b[0m \u001b[0mgenerateLatticeGibbs\u001b[0m\u001b[0;34m(\u001b[0m\u001b[0mTemp\u001b[0m\u001b[0;34m,\u001b[0m\u001b[0mn\u001b[0m\u001b[0;34m,\u001b[0m \u001b[0msweeps_num\u001b[0m\u001b[0;34m)\u001b[0m\u001b[0;34m\u001b[0m\u001b[0;34m\u001b[0m\u001b[0m\n\u001b[0m\u001b[1;32m     17\u001b[0m         \u001b[0mx11\u001b[0m \u001b[0;34m=\u001b[0m \u001b[0mlattice_m1\u001b[0m\u001b[0;34m[\u001b[0m\u001b[0mpose1\u001b[0m\u001b[0;34m[\u001b[0m\u001b[0;36m0\u001b[0m\u001b[0;34m]\u001b[0m\u001b[0;34m,\u001b[0m\u001b[0mpose1\u001b[0m\u001b[0;34m[\u001b[0m\u001b[0;36m0\u001b[0m\u001b[0;34m]\u001b[0m\u001b[0;34m]\u001b[0m \u001b[0;31m# x11\u001b[0m\u001b[0;34m\u001b[0m\u001b[0;34m\u001b[0m\u001b[0m\n\u001b[1;32m     18\u001b[0m         \u001b[0mx22\u001b[0m \u001b[0;34m=\u001b[0m \u001b[0mlattice_m1\u001b[0m\u001b[0;34m[\u001b[0m\u001b[0mpose2\u001b[0m\u001b[0;34m[\u001b[0m\u001b[0;36m0\u001b[0m\u001b[0;34m]\u001b[0m\u001b[0;34m,\u001b[0m\u001b[0mpose2\u001b[0m\u001b[0;34m[\u001b[0m\u001b[0;36m1\u001b[0m\u001b[0;34m]\u001b[0m\u001b[0;34m]\u001b[0m \u001b[0;31m# x22\u001b[0m\u001b[0;34m\u001b[0m\u001b[0;34m\u001b[0m\u001b[0m\n",
            "\u001b[0;32m<ipython-input-21-7208f645297d>\u001b[0m in \u001b[0;36mgenerateLatticeGibbs\u001b[0;34m(Temp, n, sweeps_num)\u001b[0m\n\u001b[1;32m      5\u001b[0m     \u001b[0mcurr_l\u001b[0m\u001b[0;34m[\u001b[0m\u001b[0;36m1\u001b[0m\u001b[0;34m:\u001b[0m\u001b[0;34m-\u001b[0m\u001b[0;36m1\u001b[0m\u001b[0;34m,\u001b[0m\u001b[0;36m1\u001b[0m\u001b[0;34m:\u001b[0m\u001b[0;34m-\u001b[0m\u001b[0;36m1\u001b[0m\u001b[0;34m]\u001b[0m \u001b[0;34m=\u001b[0m \u001b[0mnp\u001b[0m\u001b[0;34m.\u001b[0m\u001b[0mrandom\u001b[0m\u001b[0;34m.\u001b[0m\u001b[0mrandint\u001b[0m\u001b[0;34m(\u001b[0m\u001b[0mlow\u001b[0m\u001b[0;34m=\u001b[0m\u001b[0;36m0\u001b[0m\u001b[0;34m,\u001b[0m\u001b[0mhigh\u001b[0m\u001b[0;34m=\u001b[0m\u001b[0;36m2\u001b[0m\u001b[0;34m,\u001b[0m\u001b[0msize\u001b[0m\u001b[0;34m=\u001b[0m\u001b[0;34m(\u001b[0m\u001b[0mn\u001b[0m\u001b[0;34m,\u001b[0m\u001b[0mn\u001b[0m\u001b[0;34m)\u001b[0m\u001b[0;34m)\u001b[0m\u001b[0;34m*\u001b[0m\u001b[0;36m2\u001b[0m\u001b[0;34m-\u001b[0m\u001b[0;36m1\u001b[0m\u001b[0;34m\u001b[0m\u001b[0;34m\u001b[0m\u001b[0m\n\u001b[1;32m      6\u001b[0m     \u001b[0;32mfor\u001b[0m \u001b[0mi\u001b[0m \u001b[0;32min\u001b[0m \u001b[0mrange\u001b[0m\u001b[0;34m(\u001b[0m\u001b[0msweeps_num\u001b[0m\u001b[0;34m)\u001b[0m\u001b[0;34m:\u001b[0m\u001b[0;34m\u001b[0m\u001b[0;34m\u001b[0m\u001b[0m\n\u001b[0;32m----> 7\u001b[0;31m         \u001b[0mcurr_l\u001b[0m \u001b[0;34m=\u001b[0m \u001b[0mgibbsSweep\u001b[0m\u001b[0;34m(\u001b[0m\u001b[0mcurr_l\u001b[0m\u001b[0;34m,\u001b[0m \u001b[0mTemp\u001b[0m\u001b[0;34m,\u001b[0m \u001b[0mn\u001b[0m\u001b[0;34m,\u001b[0m \u001b[0mchoices\u001b[0m\u001b[0;34m)\u001b[0m\u001b[0;34m\u001b[0m\u001b[0;34m\u001b[0m\u001b[0m\n\u001b[0m\u001b[1;32m      8\u001b[0m     \u001b[0;32mreturn\u001b[0m \u001b[0mcurr_l\u001b[0m\u001b[0;34m\u001b[0m\u001b[0;34m\u001b[0m\u001b[0m\n\u001b[1;32m      9\u001b[0m \u001b[0;34m\u001b[0m\u001b[0m\n",
            "\u001b[0;32m<ipython-input-20-0521eccfb510>\u001b[0m in \u001b[0;36mgibbsSweep\u001b[0;34m(last_l, Temp, n, choices)\u001b[0m\n\u001b[1;32m     11\u001b[0m             \u001b[0;31m# 1, -1\u001b[0m\u001b[0;34m\u001b[0m\u001b[0;34m\u001b[0m\u001b[0m\n\u001b[1;32m     12\u001b[0m             \u001b[0;31m#last_round_l[i,j] = np.random.binomial(1,bernoulli_param)*2-1\u001b[0m\u001b[0;34m\u001b[0m\u001b[0;34m\u001b[0m\u001b[0m\n\u001b[0;32m---> 13\u001b[0;31m             \u001b[0mlast_round_l\u001b[0m\u001b[0;34m[\u001b[0m\u001b[0mi\u001b[0m\u001b[0;34m,\u001b[0m\u001b[0mj\u001b[0m\u001b[0;34m]\u001b[0m \u001b[0;34m=\u001b[0m \u001b[0mnp\u001b[0m\u001b[0;34m.\u001b[0m\u001b[0mrandom\u001b[0m\u001b[0;34m.\u001b[0m\u001b[0mchoice\u001b[0m\u001b[0;34m(\u001b[0m\u001b[0mchoices\u001b[0m\u001b[0;34m,\u001b[0m \u001b[0;36m1\u001b[0m\u001b[0;34m,\u001b[0m \u001b[0mp\u001b[0m\u001b[0;34m=\u001b[0m\u001b[0;34m[\u001b[0m\u001b[0;36m1\u001b[0m\u001b[0;34m-\u001b[0m\u001b[0mbernoulli_param\u001b[0m\u001b[0;34m,\u001b[0m \u001b[0mbernoulli_param\u001b[0m\u001b[0;34m]\u001b[0m\u001b[0;34m)\u001b[0m\u001b[0;34m\u001b[0m\u001b[0;34m\u001b[0m\u001b[0m\n\u001b[0m\u001b[1;32m     14\u001b[0m     \u001b[0;32mreturn\u001b[0m \u001b[0mlast_round_l\u001b[0m\u001b[0;34m\u001b[0m\u001b[0;34m\u001b[0m\u001b[0m\n",
            "\u001b[0;32mmtrand.pyx\u001b[0m in \u001b[0;36mnumpy.random.mtrand.RandomState.choice\u001b[0;34m()\u001b[0m\n",
            "\u001b[0;32m/usr/local/lib/python3.10/dist-packages/numpy/core/overrides.py\u001b[0m in \u001b[0;36mprod\u001b[0;34m(*args, **kwargs)\u001b[0m\n",
            "\u001b[0;31mKeyboardInterrupt\u001b[0m: "
          ]
        }
      ]
    },
    {
      "cell_type": "code",
      "source": [
        "print_empirical_means_part2(Temp_values, False)"
      ],
      "metadata": {
        "id": "7ZacWvqmby2P"
      },
      "execution_count": null,
      "outputs": []
    },
    {
      "cell_type": "markdown",
      "source": [
        "### **Problem 3**"
      ],
      "metadata": {
        "id": "NBg3nZCAZ9yL"
      }
    },
    {
      "cell_type": "markdown",
      "source": [
        "The main difference between the independent and ergodic approaches is their ability to capture the joint distribution of random variables with high spatial distance. The ergodic approach succeeds in doing so, while the independent approach fails. This is due to the number of iterations: $25$ iterations are enough for capturing the joint distribution of closely located variables (as $x_{(1,1)}$ and $x_{(2,2)}$), but $25k$ iterations are required for variables with significant spatial distance (as $x_{(1,1)}$ and $x_{(8,8)}$). As a result, the independent approach is far less accurate in comparing $x_{(1,1)}$ and $x_{(8,8)}$ but succeeds in comparing $x_{(1,1)}$ and $x_{(2,2)}$, whereas the ergodic approach succeeds in both cases.<br/>\n",
        "As the temperature increases, the same speculation remains valid. The ergodic approach, with $25k$ sweeps, excels in capturing high spatial distance. Consequently, it appears to be superior to method1 (Independent Sampling with 25 sweeps at each sample). Furthermore, considering that at high temperatures, spatially distant variables like $x_{(1,1)}$ and $x_{(8,8)}$ exhibit minimal dependence on each other, it follows that $ \\hat{E}_{\\text{Temp}}[x_{(1,1)}x_{(8,8)}]$ is close to zero regardless of the method.\n",
        "\n",
        "|  Method1: Independent Samples </br> $\\text{Temperature}$             | $\\hat{E}_{\\text{Temp}}[x_{(1,1)}x_{(2,2)}]$| $ \\hat{E}_{\\text{Temp}}[x_{(1,1)}x_{(8,8)}]$|\n",
        "| :---------------- | :------: | ----: |\n",
        "| $1$        |   $\\approx0.93$   | $\\approx 0.52$ |\n",
        "| $1.5$           |   $\\approx0.74$   | $\\approx0.37$ |\n",
        "| $2$    |  $\\approx0.51$  | $\\approx0.2$ |\n",
        "&nbsp;\n",
        "\n",
        "|  Method2: Ergodicity </br> $\\text{Temperature}$              | $\\hat{E}_{\\text{Temp}}[x_{(1,1)}x_{(2,2)}]$| $ \\hat{E}_{\\text{Temp}}[x_{(1,1)}x_{(8,8)}]$|\n",
        "| :---------------- | :------: | ----: |\n",
        "| $1$        |   $\\approx0.95$   | $\\approx0.9$ |\n",
        "| $1.5$           |   $\\approx0.78$   | $\\approx0.55$ |\n",
        "| $2$    |  $\\approx0.52$  | $\\approx0.12$ |\n",
        "\n",
        "&nbsp;\n",
        "\n",
        "|  Method 3: DP (Part1) </br> $\\text{Temperature}$              | $\\hat{E}_{\\text{Temp}}[x_{(1,1)}x_{(2,2)}]$| $ \\hat{E}_{\\text{Temp}}[x_{(1,1)}x_{(8,8)}]$|\n",
        "| :---------------- | :------: | ----: |\n",
        "| $1$        |   $\\approx0.95$   | $\\approx0.9$ |\n",
        "| $1.5$           |   $\\approx0.76$   | $\\approx0.54$ |\n",
        "| $2$    |  $\\approx0.5$  | $\\approx0.12$ |\n",
        "\n",
        "\n",
        "The differences between the ergodic approach and exact sampling are minimal. However, independent sampling significantly deviates from exact sampling due to limited iterations, hindering its ability to capture dependencies with high spatial distance accurately. In contrast, the other methods, which are utilizing dynamic programming or more iterations on a single lattice, excel in capturing these dependencies. Therefore, based on the results, it can be concluded that for the Ising model, sampling once and iteratively updating the lattice produces better outcomes."
      ],
      "metadata": {
        "id": "YF5NSzS7aAZo"
      }
    },
    {
      "cell_type": "markdown",
      "source": [
        "## Computer Exercise 10"
      ],
      "metadata": {
        "id": "Nu6y8uZlaJtA"
      }
    },
    {
      "cell_type": "code",
      "source": [
        "# step 2\n",
        "def addNoise(x, n, var):\n",
        "  eta = var * np.random.standard_normal(size=(n,n))\n",
        "  x[1:-1,1:-1] = x[1:-1,1:-1] + eta\n",
        "  return x\n",
        "\n",
        "# step 3\n",
        "def gibbsPosteriorSweep(last_l,Temp,n, y, choices, var_sq):\n",
        "    last_round_l = last_l\n",
        "    for i in  range(1,n+1):# raster-scan\n",
        "        for j in range(1,n+1):\n",
        "          # summing all the neighbors, Bernoulli probability for x_s=1, N, S, E, W\n",
        "            neighbors = last_round_l[i+1,j]+last_round_l[i-1,j]+last_round_l[i,j+1]+last_round_l[i,j-1]\n",
        "            prior = (1/Temp) * neighbors\n",
        "            lh1 = (-1 / (2 * var_sq)) * np.square(y[i, j] - 1)\n",
        "            lhm1 = (-1 / (2 * var_sq)) * np.square(y[i, j] + 1)\n",
        "            z = np.exp(prior + lh1) + np.exp((-1)*prior + lhm1)\n",
        "            # p(X_s|y_s=1)\n",
        "            bernoulli_param = (1/z) * np.exp(prior + lh1)\n",
        "            # 1, -1\n",
        "            #last_round_l[i,j] = np.random.binomial(1,bernoulli_param)*2-1\n",
        "            last_round_l[i,j] = np.random.choice(choices, 1, p=[1-bernoulli_param, bernoulli_param])\n",
        "    return last_round_l\n",
        "\n",
        "# step 4\n",
        "def ICMSweep(last_l,Temp,n, y, choices, var_sq):\n",
        "    last_round_l = last_l\n",
        "    for i in  range(1,n+1):# raster-scan\n",
        "        for j in range(1,n+1):\n",
        "          # summing all the neighbors, Bernoulli probability for x_s=1, N, S, E, W\n",
        "            neighbors = last_round_l[i+1,j]+last_round_l[i-1,j]+last_round_l[i,j+1]+last_round_l[i,j-1]\n",
        "            prior = (1/Temp) * neighbors\n",
        "            lh1 = (-1 / (2 * var_sq)) * np.square(y[i, j] - 1)\n",
        "            lhm1 = (-1 / (2 * var_sq)) * np.square(y[i, j] + 1)\n",
        "            if prior + lh1 < (-1)*prior + lhm1: # argmax is -1\n",
        "              last_round_l[i,j] = choices[0]\n",
        "            else: # argmax is 1\n",
        "              last_round_l[i,j] = choices[1]\n",
        "    return last_round_l\n",
        "\n",
        "def sampleImage(sweeps_num, Temp, n, method_func, noisy_l, var):\n",
        "    choices = np.array([-1,1])\n",
        "    curr_l = np.zeros((n+2,n+2))\n",
        "    curr_l[1:-1,1:-1] = np.random.randint(low=0,high=2,size=(n,n))*2-1\n",
        "    for i in range(sweeps_num):\n",
        "        curr_l = method_func(curr_l, Temp, n, noisy_l, choices, np.square(var))\n",
        "    return curr_l\n",
        "\n",
        "# step 5\n",
        "def argmaxML(observations):\n",
        "    observations[observations>0]=1\n",
        "    observations[observations<0]=-1\n",
        "    return observations"
      ],
      "metadata": {
        "id": "drJSbLWNaAj-"
      },
      "execution_count": null,
      "outputs": []
    },
    {
      "cell_type": "code",
      "source": [
        "# Function to plot the images for computer exercise 7\n",
        "def plot_images_part2(TempLst, n, var, figsize=(25,16)):\n",
        "  num_of_images_per_row = 5\n",
        "  num_of_images_per_col = len(TempLst)\n",
        "  fig,axs=plt.subplots(num_of_images_per_col,num_of_images_per_row)\n",
        "  fig.suptitle(\"Computer Exercise 10:\\nSampled lettices based on $T\\in\\{1, 1.5 , 2\\}$\")\n",
        "  plt.figure(figsize=figsize, dpi=80)\n",
        "  #plt.rcParams['figure.figsize'] = (12, 8.5)\n",
        "\n",
        "  iter = 0\n",
        "  for temp in TempLst:\n",
        "    # step 1\n",
        "    x = generateLatticeGibbs(temp,n,sweeps_num=50)\n",
        "    axs[iter,0].imshow(x, vmax=1,vmin=-1,interpolation=\"None\", cmap='gray')\n",
        "    axs[iter,0].title.set_text(\"X\")\n",
        "\n",
        "    # step 2\n",
        "    y = x.copy()\n",
        "    y = addNoise(y, n, var)\n",
        "    axs[iter,1].imshow(y, interpolation=\"None\", cmap='gray')\n",
        "    axs[iter,1].title.set_text(\"Y\")\n",
        "\n",
        "    # step 3\n",
        "    post_image = sampleImage(50, temp, n, gibbsPosteriorSweep, y, var)\n",
        "    axs[iter,2].imshow(post_image, vmax=1,vmin=-1,interpolation=\"None\", cmap='gray')\n",
        "    axs[iter,2].title.set_text(\"Posterior\")\n",
        "\n",
        "    # step 4\n",
        "    ICM_image = sampleImage(15, temp, n, ICMSweep, y, var)\n",
        "    axs[iter,3].imshow(ICM_image, vmax=1,vmin=-1,interpolation=\"None\", cmap='gray')\n",
        "    axs[iter,3].title.set_text(\"ICM\")\n",
        "    # step 5\n",
        "    ml = y.copy()\n",
        "    MLE_image= argmaxML(ml)\n",
        "    axs[iter,4].imshow(MLE_image,vmax=1,vmin=-1,interpolation=\"None\", cmap='gray')\n",
        "    axs[iter,4].title.set_text(\"MLE\")\n",
        "\n",
        "    axs[iter, 0].set_title(f'\\nTemperature {temp}:\\n X')\n",
        "    iter= iter + 1\n",
        "  fig.tight_layout()\n",
        "  plt.subplots_adjust(wspace=1.2, hspace=1.2)\n",
        "  plt.show()"
      ],
      "metadata": {
        "id": "5HFwQ1lcc4kK"
      },
      "execution_count": null,
      "outputs": []
    },
    {
      "cell_type": "code",
      "source": [
        "# Function to plot the images for computer exercise 7\n",
        "def plot_images(dict_images, TempLst, figsize=(20,15)):\n",
        "  num_of_images_per_row = len(dict_images[TempLst[0]])\n",
        "  num_of_images_per_col = len(TempLst)\n",
        "  fig,axs=plt.subplots(num_of_images_per_col,num_of_images_per_row, figsize=figsize)\n",
        "  fig.suptitle(\"Computer Exercise 7:\\nSampled lattices based on $T\\in\\{1, 1.5 , 2\\}$\")\n",
        "  plt.figure(dpi=80)\n",
        "  iter = 0\n",
        "  for key, value in dict_images.items():\n",
        "    for i,img in enumerate(value):\n",
        "      view_image = imageY2Row(img)\n",
        "      #print(view_image)\n",
        "      axs[iter,i].imshow(view_image,vmax=1,vmin=-1,interpolation=\"None\", cmap='gray')\n",
        "    axs[iter, 0].set_title(f'Temperature {key}:')\n",
        "    iter= iter + 1\n",
        "  fig.tight_layout()\n",
        "  plt.subplots_adjust(wspace=1.1, hspace=1.1)\n",
        "  plt.show()"
      ],
      "metadata": {
        "id": "5tOrdcN_GezE"
      },
      "execution_count": null,
      "outputs": []
    },
    {
      "cell_type": "code",
      "source": [
        "plot_images_part2(Temp_values, n=100, var=2) # attached to the report"
      ],
      "metadata": {
        "colab": {
          "base_uri": "https://localhost:8080/",
          "height": 521
        },
        "id": "VzsSbfnOcGWc",
        "outputId": "ccf0a456-b85c-4a85-96ee-62bf7342b85f"
      },
      "execution_count": null,
      "outputs": [
        {
          "output_type": "display_data",
          "data": {
            "text/plain": [
              "<Figure size 640x480 with 15 Axes>"
            ],
            "image/png": "[encoded data removed]"
          },
          "metadata": {}
        },
        {
          "output_type": "display_data",
          "data": {
            "text/plain": [
              "<Figure size 2000x1280 with 0 Axes>"
            ]
          },
          "metadata": {}
        }
      ]
    },
    {
      "cell_type": "markdown",
      "source": [
        "# Exporting to PDF"
      ],
      "metadata": {
        "id": "Q1b1w_OhC1QJ"
      }
    },
    {
      "cell_type": "code",
      "source": [
        "!sudo apt-get install texlive-xetex texlive-fonts-recommended texlive-plain-generic"
      ],
      "metadata": {
        "id": "yKkC8nbnC4Lj"
      },
      "execution_count": null,
      "outputs": []
    },
    {
      "cell_type": "code",
      "source": [
        "from google.colab import drive\n",
        "drive.mount('/content/drive/')"
      ],
      "metadata": {
        "id": "Ob5U9bUkC48F"
      },
      "execution_count": null,
      "outputs": []
    },
    {
      "cell_type": "code",
      "source": [
        "!jupyter nbconvert --to pdf ./drive/MyDrive/Colab_Notebooks/GMDL/GMDL_hw1.ipynb"
      ],
      "metadata": {
        "id": "KmJe-6B0C6Yr"
      },
      "execution_count": null,
      "outputs": []
    }
  ]
}